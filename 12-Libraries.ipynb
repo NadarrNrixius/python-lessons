{
 "cells": [
  {
   "cell_type": "markdown",
   "metadata": {},
   "source": [
    "# Lesson 12 - Libraries\n",
    "\n",
    "As you write more code, you'll find that you're confronted with similar sets of problems over and over. In fact, odds are \n",
    "you probably aren't the first person to be confronted with those problems. It's silly to reinvent the wheel (without a \n",
    "good reason), and this is what libraries are for. This lesson will cover the basics of libraries, which should be enough \n",
    "for your purposes for now. However, just be aware that the concept is *significantly* more complicated than presented here."
   ]
  },
  {
   "cell_type": "markdown",
   "metadata": {},
   "source": [
    "### What Is It?\n",
    "\n",
    "A *library*, in theory, is a collection of names (in the most general programming sense) that can be reused in another \n",
    "program without needing to rewrite all the code associated with those names. In practice, specifically in Python, this \n",
    "means a collection of variables, functions, and classes that can be included in another Python program.\n",
    "\n",
    "Also, note that libraries tend to be referred to as *modules* in Python. We'll generally use this term when referring \n",
    "to Python libraries, rather than the concept in general."
   ]
  },
  {
   "cell_type": "markdown",
   "metadata": {},
   "source": [
    "### `import`ing Modules\n",
    "\n",
    "In order to access a module, you need to tell your program that it needs to use it. The easiest and most common way \n",
    "to do this is by `import`ing the module. You can do this pretty easily. All you need to do is write `import` and \n",
    "the name of the module you want to include in its own line, like so:\n",
    "```python\n",
    "import <name-of-module>\n",
    "```\n",
    "Now that module is included in the current program, and you can access its entire contents."
   ]
  },
  {
   "cell_type": "markdown",
   "metadata": {},
   "source": [
    "### Accessing Module Contents\n",
    "\n",
    "You can access the contents of a module by writing its name, followed by a dot (.), and then the name \n",
    "you want to use (more or less identical to our old friend, the dot operator). For example, to take the \n",
    "square root of a number, you can use the `sqrt` function from Python's `math` module, you would do \n",
    "something like this."
   ]
  },
  {
   "cell_type": "code",
   "execution_count": 3,
   "metadata": {},
   "outputs": [
    {
     "name": "stdout",
     "output_type": "stream",
     "text": [
      "3.1622776601683795\n"
     ]
    }
   ],
   "source": [
    "# First we have to actually import the module\n",
    "import math\n",
    "\n",
    "root = math.sqrt(10)\n",
    "print(root)"
   ]
  },
  {
   "cell_type": "markdown",
   "metadata": {},
   "source": [
    "The reason we have to use this particular format is to prevent something called *name collision*. This means that if for \n",
    "some reason we have our own `sqrt` function, we can still use the one provided with Python without one overwriting the \n",
    "other. This way, anything that uses Python's `sqrt` doesn't use your `sqrt` instead, especially if yours doesn't \n",
    "calculate the square root of a number. \n",
    "\n",
    "This is the same reason that, if you look back at each of the lessons, none of the top-level functions, variables, or classes \n",
    "we've declare ever share a name within a lesson, unless we don't need the old one anymore. Because if we try to write a \n",
    "function or class that already exists or create a variable that already exists, that completely overwrites the existing one, \n",
    "which can easily break existing code. Note that names declared outside the top-level (i.e. inside classes and functions) \n",
    "aren't affected by this, since they're in a different *scope*."
   ]
  },
  {
   "cell_type": "markdown",
   "metadata": {},
   "source": [
    "### Python Standard Library\n",
    "\n",
    "Most modern languages come with a collections of libraries that they refer to as their \"standard library\". This is \n",
    "generally a collection of libraries that solve common problems, including string manipulation, non-basic math operations, \n",
    "file manipulation, and networking, just to name a few. Python's standard library has a reputation for being especially \n",
    "robust, and offers a wide variety of modules of already-written code (which probably runs faster than anything you \n",
    "could write in Python directly). Here's a few common examples. Each of these have a link to the documentation for that \n",
    "library.\n",
    "\n",
    "- [`string`](https://docs.python.org/3/library/string.html) - contains common operations on the `string` data type\n",
    "- [`datetime`](https://docs.python.org/3/library/datetime.html) - handles date/time information (which you should never \n",
    "do by yourself; it's shockingly complicated)\n",
    "- [`math`](https://docs.python.org/3/library/math.html) - has many functions with common math operations beyond of \n",
    "basic arithmetic\n",
    "- [`random`](https://docs.python.org/3/library/random.html) - contains functions and types for generating pseudo-random\n",
    "data (not truly random, [here's a somewhat lengthy explanation for why](https://superuser.com/questions/712551/how-are-pseudorandom-and-truly-random-numbers-different-and-why-does-it-matter))\n",
    "- [`os`](https://docs.python.org/3/library/os.html) - functions, objects, and sublibraries that interact with the \n",
    "operating system.\n",
    "\n",
    "These are very much not all of the modules, but they are ones you'll use very commonly. You can find a complete \n",
    "list of all modules in the Python standard library [here](https://docs.python.org/3/library/). At the time of writing, \n",
    "the site also has links to Python basics like we've been covering. It's recommended to read these if you have the time,\n",
    "mostly because that documentation will be far more comprehensive than these lessons."
   ]
  },
  {
   "cell_type": "markdown",
   "metadata": {},
   "source": [
    "### Reading Python Documentation\n",
    "\n",
    "Being able to read about a library is usually even more important than being able to use it - if you don't know \n",
    "what it does, then you don't know what it can do. Now, in the opinion of the original author of these lessons, \n",
    "Python's documentation is one of the hardest to read of almost all modern languages (but by no means the \n",
    "worst).\n",
    "\n",
    "Python modules almost always start with a blurb about the purpose and contents of the module, followed by \n",
    "a listing of all of the functions, classes, and variables available in that module. Each entry will be headed \n",
    "by the name that is being described, followed by a description of the uses, caveats and meaning of that name.\n",
    "\n",
    "Beyond this, there's always a lot of good information in Python docs, and it's always worth a read, but it can \n",
    "get in the way of finding what you're looking for, and there's no strictly consistent format.\n",
    "\n",
    "Generally, your best tools for looking something up in documentation are your browser's \"Find\" functionality \n",
    "(Ctrl/Cmd + F, usually), your search engine of choice, and [Stack Overflow](https://stackoverflow.com/questions)."
   ]
  },
  {
   "cell_type": "markdown",
   "metadata": {},
   "source": [
    "# Exercises\n",
    "\n",
    "Congratulations! This lesson doesn't have any exercises. Your ability to use modules will be tested enough in the real world, \n",
    "and there's not much to cover, other than basic syntax and documentation scavenger hunts (which aren't usually that fun)."
   ]
  }
 ],
 "metadata": {
  "kernelspec": {
   "display_name": "Python 3.10.6 64-bit",
   "language": "python",
   "name": "python3"
  },
  "language_info": {
   "codemirror_mode": {
    "name": "ipython",
    "version": 3
   },
   "file_extension": ".py",
   "mimetype": "text/x-python",
   "name": "python",
   "nbconvert_exporter": "python",
   "pygments_lexer": "ipython3",
   "version": "3.10.6"
  },
  "orig_nbformat": 4,
  "vscode": {
   "interpreter": {
    "hash": "26de051ba29f2982a8de78e945f0abaf191376122a1563185a90213a26c5da77"
   }
  }
 },
 "nbformat": 4,
 "nbformat_minor": 2
}
